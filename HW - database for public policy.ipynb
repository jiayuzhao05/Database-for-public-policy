{
 "cells": [
  {
   "cell_type": "markdown",
   "metadata": {},
   "source": [
    "## Problem 1. Simple Movies DB"
   ]
  },
  {
   "cell_type": "markdown",
   "metadata": {},
   "source": [
    "Build an ER model to capture the following requirements. Explicit relationships are not given, you must determine the relationships, cardinality, and participation requirements.\n",
    "\n",
    "A new app is interested in storing information about movies, actors, and studios that make movies. Design an ER diagram for the following data requirements:\n",
    "\n",
    "A movie has a title, run length in minutes, and a single genre (e.g. horror, comedy).\n",
    "Movies have sequels.\n",
    "An actor has a name, age, gender, and minimum salary. An actor must have been in at least one movie to be considered an actor.\n",
    "A movie has a single director. Directors have name, age, and a favorite genre. An actor cannot be a director.\n",
    "A movie is produced by studios. Each studio has a name and zip code. "
   ]
  },
  {
   "cell_type": "code",
   "execution_count": null,
   "metadata": {
    "vscode": {
     "languageId": "plaintext"
    }
   },
   "outputs": [],
   "source": [
    "实体：Movie\n",
    "属性：title, run_length, genre\n",
    "关系：sequel, directed_by, produced_by\n",
    "\n",
    "实体：Actor\n",
    "属性：name, age, gender, minimum_salary\n",
    "关系：acts_in\n",
    "\n",
    "实体：Director\n",
    "属性：name, age, favorite_genre\n",
    "关系：directs\n",
    "\n",
    "实体：Studio\n",
    "属性：name, zip_code\n",
    "关系：produces\n",
    "\n",
    "关系：\n",
    "Movie - Actor: acts_in (多对多)\n",
    "Movie - Director: directed_by (一对一)\n",
    "Movie - Studio: produced_by (多对多)\n",
    "Movie - Movie: sequel (一对一)"
   ]
  },
  {
   "cell_type": "markdown",
   "metadata": {},
   "source": [
    "ER模型捕捉了所有给定的需求和约束"
   ]
  },
  {
   "cell_type": "markdown",
   "metadata": {},
   "source": [
    "## Problem 2. Simple Movies II\n"
   ]
  },
  {
   "cell_type": "markdown",
   "metadata": {},
   "source": [
    "Modify the previous ER diagram such that:\n",
    "\n",
    "A movie is produced by a studio, and has a list of producers. Each producer has a name and age.\n",
    "\n",
    "In a given movie an actor, director, and producer can be the same person. "
   ]
  },
  {
   "cell_type": "code",
   "execution_count": null,
   "metadata": {
    "vscode": {
     "languageId": "plaintext"
    }
   },
   "outputs": [],
   "source": [
    "实体：Movie\n",
    "属性：title, run_length, genre\n",
    "关系：sequel, directed_by, produced_by, has_producers\n",
    "\n",
    "实体：Actor\n",
    "属性：name, age, gender, minimum_salary\n",
    "关系：acts_in\n",
    "\n",
    "实体：Director\n",
    "属性：name, age, favorite_genre\n",
    "关系：directs\n",
    "\n",
    "实体：Studio\n",
    "属性：name, zip_code\n",
    "关系：produces\n",
    "\n",
    "实体：Producer\n",
    "属性：name, age\n",
    "关系：produces_movie\n",
    "\n",
    "关系：\n",
    "Movie - Actor: acts_in (多对多)\n",
    "Movie - Director: directed_by (一对一)\n",
    "Movie - Studio: produced_by (一对一)\n",
    "Movie - Producer: has_producers (多对多)"
   ]
  },
  {
   "cell_type": "markdown",
   "metadata": {},
   "source": [
    "ER模型反映了新的需求，允许在同一部电影中演员、导演和制片人是同一个人。"
   ]
  },
  {
   "cell_type": "markdown",
   "metadata": {},
   "source": [
    "## Problem 3. Music Store\n"
   ]
  },
  {
   "cell_type": "markdown",
   "metadata": {},
   "source": [
    "Design a ER diagram for a database for an application that sells digital albums and songs, and allows users to create playlists.\n",
    "\n",
    "A song has a title, length, an artist (e.g. band or person), and a set of composers.\n",
    "An artist has a name and a number of members.\n",
    "A composer has a name and age. A composer must have written at least one song.\n",
    "An album is composed of songs, an album cover (a string), and a track order (ie SongX is track 1. SongY is track 2…).\n",
    "Songs have an individual price. Albums have a price that is cheaper than purchasing each song individually.\n",
    "Users have names and email addresses.\n",
    "Users make purchases of songs and albums.\n",
    "Users make (ordered) playlists of songs.\n",
    "Users can review (a score of 1-5) playlists or albums, but not songs. Reviews can also have a comment."
   ]
  },
  {
   "cell_type": "code",
   "execution_count": null,
   "metadata": {
    "vscode": {
     "languageId": "plaintext"
    }
   },
   "outputs": [],
   "source": [
    "实体：Song\n",
    "属性：title, length, price\n",
    "关系：performed_by, composed_by, part_of_album\n",
    "\n",
    "实体：Artist\n",
    "属性：name, number_of_members\n",
    "关系：performs\n",
    "\n",
    "实体：Composer\n",
    "属性：name, age\n",
    "关系：composes\n",
    "\n",
    "实体：Album\n",
    "属性：cover, price\n",
    "关系：contains_songs, has_track_order\n",
    "\n",
    "实体：User\n",
    "属性：name, email\n",
    "关系：purchases, creates_playlist, writes_review\n",
    "\n",
    "实体：Playlist\n",
    "属性：name\n",
    "关系：contains_songs, created_by\n",
    "\n",
    "实体：Review\n",
    "属性：score, comment\n",
    "关系：for_playlist, for_album\n",
    "\n",
    "关系：\n",
    "Song - Artist: performed_by (多对一)\n",
    "Song - Composer: composed_by (多对多)\n",
    "Album - Song: contains_songs (一对多)\n",
    "User - Song: purchases (多对多)\n",
    "User - Album: purchases (多对多)\n",
    "User - Playlist: creates_playlist (多对多)\n",
    "User - Review: writes_review (多对多)"
   ]
  }
 ],
 "metadata": {
  "language_info": {
   "name": "python"
  }
 },
 "nbformat": 4,
 "nbformat_minor": 2
}
